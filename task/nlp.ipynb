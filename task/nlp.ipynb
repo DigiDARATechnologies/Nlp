{
 "cells": [
  {
   "cell_type": "code",
   "execution_count": 1,
   "metadata": {},
   "outputs": [],
   "source": [
    "#1.Install NLTK library in Python.\n",
    "import nltk"
   ]
  },
  {
   "cell_type": "code",
   "execution_count": 2,
   "metadata": {},
   "outputs": [
    {
     "name": "stderr",
     "output_type": "stream",
     "text": [
      "[nltk_data] Downloading package punkt to\n",
      "[nltk_data]     C:\\Users\\Vinit\\AppData\\Roaming\\nltk_data...\n",
      "[nltk_data]   Package punkt is already up-to-date!\n",
      "[nltk_data] Downloading package stopwords to\n",
      "[nltk_data]     C:\\Users\\Vinit\\AppData\\Roaming\\nltk_data...\n",
      "[nltk_data]   Unzipping corpora\\stopwords.zip.\n"
     ]
    },
    {
     "data": {
      "text/plain": [
       "True"
      ]
     },
     "execution_count": 2,
     "metadata": {},
     "output_type": "execute_result"
    }
   ],
   "source": [
    "#Download NLTK corpora such as 'punkt' and 'stopwords'.\t\n",
    "import nltk\n",
    "nltk.download('punkt')\n",
    "nltk.download('stopwords')"
   ]
  },
  {
   "cell_type": "code",
   "execution_count": 3,
   "metadata": {},
   "outputs": [
    {
     "name": "stdout",
     "output_type": "stream",
     "text": [
      "['nature', 'means', 'universe', 'is', 'the', 'solution', 'of', 'the', 'all', 'problems', '.', 'it', 'is', 'a', 'magic', '.', 'spend', 'the', 'time', 'with', 'the', 'nature', 'u', 'feel', 'better', 'and', 'comfort', 'also', 'pamper', '.']\n",
      "['nature means universe is the solution of the all problems.', 'it is a magic.', 'spend the time with the nature u feel better and comfort also pamper.']\n"
     ]
    }
   ],
   "source": [
    "#3\tTokenize a given sentence into words using NLTK.\n",
    "from nltk.tokenize import word_tokenize, sent_tokenize\n",
    "text=\"nature means universe is the solution of the all problems. it is a magic. spend the time with the nature u feel better and comfort also pamper. \"\n",
    "word=word_tokenize(text)\n",
    "#4\tTokenize a paragraph into sentences using NLTK\n",
    "sent=sent_tokenize(text)\n",
    "print(word)\n",
    "print(sent)"
   ]
  },
  {
   "cell_type": "code",
   "execution_count": 4,
   "metadata": {},
   "outputs": [
    {
     "name": "stdout",
     "output_type": "stream",
     "text": [
      "[['Nature', 'provides', 'us', 'air', 'to', 'breathe', ',', 'water', 'to', 'drink', ',', 'soil', 'to', 'make', 'a', 'home', 'and', 'the', 'land', 'to', 'stay', '.', 'It', 'gives', 'us', 'fruits', ',', 'vegetables', 'and', 'grains', 'to', 'eat', '.', 'Nature', 'is', 'a', 'precious', 'gift', 'given', 'to', 'us', 'by', 'God', '.']]\n"
     ]
    }
   ],
   "source": [
    "#5\tWrite a function to perform word tokenization on multiple sentences.\n",
    "def tokenization(sentences):\n",
    "    token=[word_tokenize(sentence) for sentence in sentences]\n",
    "    return token\n",
    "example=[\"Nature provides us air to breathe, water to drink, soil to make a home and the land to stay. It gives us fruits, vegetables and grains to eat. Nature is a precious gift given to us by God.\"]\n",
    "toke=tokenization(example)\n",
    "print(toke)"
   ]
  },
  {
   "cell_type": "code",
   "execution_count": 5,
   "metadata": {},
   "outputs": [
    {
     "name": "stdout",
     "output_type": "stream",
     "text": [
      "['natur defin environ .', 'interact physic world around us life within like atmospher , climat , natur resourc , ecosystem , flora , fauna human .', 'natur also includ non-liv thing water , mountain , landscap , plant , tree mani thing .']\n"
     ]
    }
   ],
   "source": [
    "#Text Preprocessing:.\t\t\n",
    "\n",
    "from nltk.stem import PorterStemmer\n",
    "from nltk.corpus import stopwords\n",
    "import nltk\n",
    "stop_words = set(stopwords.words('english'))\n",
    "paragraph=\"\"\"Nature is defined as our environment. It is the interaction between the physical world around us and the life within it like the atmosphere, climate, natural resources, ecosystem, flora, fauna and humans. Nature also includes non-living things such as water, mountains, landscape, plants, trees and many other things.\"\"\"\n",
    "stemmer=PorterStemmer()\n",
    "sent=nltk.sent_tokenize(paragraph)\n",
    "type(sent)\n",
    "for i in range(len(sent)):\n",
    "    words=nltk.word_tokenize(sent[i])\n",
    "    words=[stemmer.stem(word) for word in words if word.lower() not in set(stopwords.words('english'))]\n",
    "    sent[i]=' '.join(words)\n",
    "print(sent)"
   ]
  },
  {
   "cell_type": "code",
   "execution_count": 6,
   "metadata": {},
   "outputs": [
    {
     "name": "stdout",
     "output_type": "stream",
     "text": [
      "Original Tokens: ['Nature', 'is', 'defined', 'as', 'our', 'environment', '.', 'It', 'includes', 'the', 'atmosphere', ',', 'mountains', ',', 'trees', ',', 'and', 'rivers', '.']\n",
      "Tokens without Punctuation: ['Nature', 'is', 'defined', 'as', 'our', 'environment', 'It', 'includes', 'the', 'atmosphere', 'mountains', 'trees', 'and', 'rivers']\n"
     ]
    }
   ],
   "source": [
    "#6 Remove punctuation from token\n",
    "import nltk\n",
    "import string\n",
    "text = \"\"\"Nature is defined as our environment. It includes the atmosphere, mountains, trees, and rivers.\"\"\"\n",
    "tokens = nltk.word_tokenize(text)\n",
    "tokens_without_punctuation = [word for word in tokens if word not in string.punctuation]\n",
    "print(\"Original Tokens:\", tokens)\n",
    "print(\"Tokens without Punctuation:\", tokens_without_punctuation)\n"
   ]
  },
  {
   "cell_type": "code",
   "execution_count": 7,
   "metadata": {},
   "outputs": [
    {
     "name": "stdout",
     "output_type": "stream",
     "text": [
      "running-run\n",
      "runs-run\n",
      "runner-runner\n",
      "cats-cat\n",
      "played-play\n",
      "playing-play\n",
      "happier-happier\n",
      "happiest-happiest\n",
      "amazement-amaz\n",
      "amazing-amaz\n",
      "went-went\n",
      "going-go\n"
     ]
    }
   ],
   "source": [
    "#7 Perform stemming on a given list of words using the Porter Stemmer.\n",
    "from nltk.stem import PorterStemmer\n",
    "stemming=PorterStemmer()\n",
    "words= [\"running\", \"runs\", \"runner\", \"cats\", \"played\", \"playing\", \n",
    "         \"happier\", \"happiest\", \"amazement\", \"amazing\", \"went\", \"going\"]\n",
    "for word in words:\n",
    "     print(word+\"-\"+stemming.stem(word))"
   ]
  },
  {
   "cell_type": "code",
   "execution_count": 8,
   "metadata": {},
   "outputs": [
    {
     "name": "stdout",
     "output_type": "stream",
     "text": [
      "run\n",
      "run\n",
      "run\n",
      "cat\n",
      "play\n",
      "play\n",
      "happy\n",
      "happiest\n",
      "amaz\n",
      "amaz\n",
      "went\n",
      "going\n"
     ]
    }
   ],
   "source": [
    "#8,Perform stemming on a given text using the Lancaster Stemmer.\n",
    "from nltk.stem import LancasterStemmer\n",
    "Lan=LancasterStemmer()\n",
    "text= [\"running\", \"runs\", \"runner\", \"cats\", \"played\", \"playing\", \n",
    "         \"happier\", \"happiest\", \"amazement\", \"amazing\", \"went\", \"going\"]\n",
    "\n",
    "words =    [Lan.stem(word) for word in text]\n",
    "for word in words:\n",
    "    print(word)\n",
    "\n"
   ]
  },
  {
   "cell_type": "code",
   "execution_count": 9,
   "metadata": {},
   "outputs": [
    {
     "name": "stdout",
     "output_type": "stream",
     "text": [
      "Word         Porter Stemmer  Lancaster Stemmer\n",
      "---------------------------------------------\n",
      "running      run             run            \n",
      "runs         run             run            \n",
      "runner       runner          run            \n",
      "cats         cat             cat            \n",
      "played       play            play           \n",
      "playing      play            play           \n",
      "happier      happier         happy          \n",
      "happiest     happiest        happiest       \n",
      "amazement    amaz            amaz           \n",
      "amazing      amaz            amaz           \n",
      "went         went            went           \n",
      "going        go              going          \n"
     ]
    }
   ],
   "source": [
    "#9\tCompare the results of Porter and Lancaster Stemmer for the same text.\n",
    "from nltk.stem import PorterStemmer, LancasterStemmer\n",
    "\n",
    "# Initialize stemmers\n",
    "porter = PorterStemmer()\n",
    "lancaster = LancasterStemmer()\n",
    "\n",
    "# List of words to stem\n",
    "words = [\"running\", \"runs\", \"runner\", \"cats\", \"played\", \"playing\", \n",
    "         \"happier\", \"happiest\", \"amazement\", \"amazing\", \"went\", \"going\"]\n",
    "\n",
    "# Applying Porter Stemmer\n",
    "porter_stemmed = [porter.stem(word) for word in words]\n",
    "\n",
    "# Applying Lancaster Stemmer\n",
    "lancaster_stemmed = [lancaster.stem(word) for word in words]\n",
    "\n",
    "# Print comparison\n",
    "print(f\"{'Word':<12} {'Porter Stemmer':<15} {'Lancaster Stemmer':<15}\")\n",
    "print(\"-\" * 45)\n",
    "\n",
    "for word, porter_result, lancaster_result in zip(words, porter_stemmed, lancaster_stemmed):\n",
    "    print(f\"{word:<12} {porter_result:<15} {lancaster_result:<15}\")\n",
    "\n"
   ]
  },
  {
   "cell_type": "code",
   "execution_count": 10,
   "metadata": {},
   "outputs": [
    {
     "name": "stdout",
     "output_type": "stream",
     "text": [
      "runn\n",
      "run\n",
      "runner\n",
      "cat\n",
      "play\n",
      "play\n",
      "happier\n",
      "happi\n",
      "amaze\n",
      "amaz\n",
      "went\n",
      "go\n"
     ]
    }
   ],
   "source": [
    "#10,Implement custom stemming rules using RegexpStemmer.\n",
    "from nltk.stem import RegexpStemmer\n",
    "pattern=r'(ing|ed|s|ment|est)$'\n",
    "stemmer=RegexpStemmer(pattern,min=4)\n",
    "text = [\"running\", \"runs\", \"runner\", \"cats\", \"played\", \"playing\", \n",
    "        \"happier\", \"happiest\", \"amazement\", \"amazing\", \"went\", \"going\"]\n",
    "words=[stemmer.stem(word) for word in text]\n",
    "for word in words:\n",
    "    print(word)\n"
   ]
  },
  {
   "cell_type": "code",
   "execution_count": 11,
   "metadata": {},
   "outputs": [
    {
     "name": "stdout",
     "output_type": "stream",
     "text": [
      "running-run\n",
      "runs-run\n",
      "runner-runner\n",
      "cats-cat\n",
      "played-play\n",
      "playing-play\n",
      "happier-happier\n",
      "happiest-happiest\n",
      "amazement-amazement\n",
      "amazing-amaze\n",
      "went-go\n",
      "going-go\n"
     ]
    }
   ],
   "source": [
    "#11,Lemmatize words using NLTK's WordNetLemmatizer\n",
    "from nltk .stem import WordNetLemmatizer\n",
    "lamm=WordNetLemmatizer()\n",
    "words=[\"running\", \"runs\", \"runner\", \"cats\", \"played\", \"playing\", \n",
    "        \"happier\", \"happiest\", \"amazement\", \"amazing\", \"went\", \"going\"]\n",
    "for word in words:\n",
    "    print(word+\"-\"+lamm.lemmatize(word,pos='v'))"
   ]
  },
  {
   "cell_type": "code",
   "execution_count": 22,
   "metadata": {},
   "outputs": [
    {
     "name": "stdout",
     "output_type": "stream",
     "text": [
      "Original Sentence: The running dogs quickly jumped over the lazy foxes.\n",
      "Lemmatized Sentence: The running dog quickly jump over the lazy fox .\n"
     ]
    }
   ],
   "source": [
    "import nltk\n",
    "from nltk.stem import WordNetLemmatizer\n",
    "from nltk.corpus import wordnet\n",
    "from nltk.tokenize import word_tokenize\n",
    "from nltk import pos_tag\n",
    "\n",
    "# Function to convert NLTK POS tags to WordNet POS tags\n",
    "def get_wordnet_pos(tag):\n",
    "    if tag.startswith('J'):  # Adjective\n",
    "        return wordnet.ADJ\n",
    "    elif tag.startswith('V'):  # Verb\n",
    "        return wordnet.VERB\n",
    "    elif tag.startswith('N'):  # Noun\n",
    "        return wordnet.NOUN\n",
    "    elif tag.startswith('R'):  # Adverb\n",
    "        return wordnet.ADV\n",
    "    else:\n",
    "        return wordnet.NOUN  # Default to noun\n",
    "\n",
    "# Initialize Lemmatizer\n",
    "lemmatizer = WordNetLemmatizer()\n",
    "\n",
    "# Input sentence\n",
    "sentence = \"The running dogs quickly jumped over the lazy foxes.\"\n",
    "\n",
    "# Tokenization\n",
    "words = word_tokenize(sentence)\n",
    "\n",
    "# POS tagging\n",
    "pos_tags = pos_tag(words)\n",
    "\n",
    "# Lemmatization with POS tagging\n",
    "lemmatized_words = [lemmatizer.lemmatize(word, get_wordnet_pos(tag)) for word, tag in pos_tags]\n",
    "\n",
    "# Output result\n",
    "print(\"Original Sentence:\", sentence)\n",
    "print(\"Lemmatized Sentence:\", ' '.join(lemmatized_words))\n"
   ]
  },
  {
   "cell_type": "code",
   "execution_count": 23,
   "metadata": {},
   "outputs": [
    {
     "name": "stdout",
     "output_type": "stream",
     "text": [
      "Word            Stemmed         Lemmatized     \n",
      "---------------------------------------------\n",
      "The             The             The            \n",
      "running         runn            running        \n",
      "dogs            dog             dog            \n",
      "quickly         quickly         quickly        \n",
      "jumped          jump            jump           \n",
      "over            over            over           \n",
      "the             the             the            \n",
      "lazy            lazy            lazy           \n",
      "foxes           foxe            fox            \n",
      ".               .               .              \n"
     ]
    }
   ],
   "source": [
    "#13\tCompare the results of stemming and lemmatization for a given text.\n",
    "\n",
    "stemmed_words = [stemmer.stem(word) for word in words]\n",
    "\n",
    "# Lemmatization (considering POS tags)\n",
    "lemmatized_words = [lemmatizer.lemmatize(word, get_wordnet_pos(tag)) for word, tag in pos_tag(words)]\n",
    "\n",
    "# Display Results\n",
    "print(f\"{'Word':<15} {'Stemmed':<15} {'Lemmatized':<15}\")\n",
    "print(\"-\" * 45)\n",
    "\n",
    "for word, stemmed, lemmatized in zip(words, stemmed_words, lemmatized_words):\n",
    "    print(f\"{word:<15} {stemmed:<15} {lemmatized:<15}\")\n"
   ]
  },
  {
   "cell_type": "code",
   "execution_count": 24,
   "metadata": {},
   "outputs": [
    {
     "name": "stdout",
     "output_type": "stream",
     "text": [
      "Original Text: This is an example sentence to demonstrate the removal of stopwords.\n",
      "Filtered Text: example sentence demonstrate removal stopwords .\n"
     ]
    }
   ],
   "source": [
    "#14\tWrite a function to remove stopwords from a tokenized text using NLTK.\n",
    "def remove_stopwords(text):\n",
    "    stop_words = set(stopwords.words('english'))  # Get English stopwords\n",
    "    words = word_tokenize(text)  # Tokenize text\n",
    "    filtered_words = [word for word in words if word.lower() not in stop_words]  # Remove stopwords\n",
    "    return filtered_words\n",
    "# Example usage\n",
    "text = \"This is an example sentence to demonstrate the removal of stopwords.\"\n",
    "filtered_text = remove_stopwords(text)\n",
    "print(\"Original Text:\", text)\n",
    "print(\"Filtered Text:\", \" \".join(filtered_text))\n"
   ]
  },
  {
   "cell_type": "code",
   "execution_count": 12,
   "metadata": {},
   "outputs": [
    {
     "name": "stdout",
     "output_type": "stream",
     "text": [
      "list of stopwords:\n",
      "['a', 'about', 'above', 'after', 'again', 'against', 'ain', 'all', 'am', 'an', 'and', 'any', 'are', 'aren', \"aren't\", 'as', 'at', 'be', 'because', 'been', 'before', 'being', 'below', 'between', 'both', 'but', 'by', 'can', 'couldn', \"couldn't\", 'd', 'did', 'didn', \"didn't\", 'do', 'does', 'doesn', \"doesn't\", 'doing', 'don', \"don't\", 'down', 'during', 'each', 'few', 'for', 'from', 'further', 'had', 'hadn', \"hadn't\", 'has', 'hasn', \"hasn't\", 'have', 'haven', \"haven't\", 'having', 'he', \"he'd\", \"he'll\", 'her', 'here', 'hers', 'herself', \"he's\", 'him', 'himself', 'his', 'how', 'i', \"i'd\", 'if', \"i'll\", \"i'm\", 'in', 'into', 'is', 'isn', \"isn't\", 'it', \"it'd\", \"it'll\", \"it's\", 'its', 'itself', \"i've\", 'just', 'll', 'm', 'ma', 'me', 'mightn', \"mightn't\", 'more', 'most', 'mustn', \"mustn't\", 'my', 'myself', 'needn', \"needn't\", 'no', 'nor', 'not', 'now', 'o', 'of', 'off', 'on', 'once', 'only', 'or', 'other', 'our', 'ours', 'ourselves', 'out', 'over', 'own', 're', 's', 'same', 'shan', \"shan't\", 'she', \"she'd\", \"she'll\", \"she's\", 'should', 'shouldn', \"shouldn't\", \"should've\", 'so', 'some', 'such', 't', 'than', 'that', \"that'll\", 'the', 'their', 'theirs', 'them', 'themselves', 'then', 'there', 'these', 'they', \"they'd\", \"they'll\", \"they're\", \"they've\", 'this', 'those', 'through', 'to', 'too', 'under', 'until', 'up', 've', 'very', 'was', 'wasn', \"wasn't\", 'we', \"we'd\", \"we'll\", \"we're\", 'were', 'weren', \"weren't\", \"we've\", 'what', 'when', 'where', 'which', 'while', 'who', 'whom', 'why', 'will', 'with', 'won', \"won't\", 'wouldn', \"wouldn't\", 'y', 'you', \"you'd\", \"you'll\", 'your', \"you're\", 'yours', 'yourself', 'yourselves', \"you've\"]\n"
     ]
    }
   ],
   "source": [
    "#15 Generate a list of common stopwords in English using NLTK\n",
    "import  nltk\n",
    "from nltk.corpus import stopwords\n",
    "stopwords=stopwords.words('english')\n",
    "print(\"list of stopwords:\")\n",
    "print(stopwords)"
   ]
  },
  {
   "cell_type": "code",
   "execution_count": 13,
   "metadata": {},
   "outputs": [
    {
     "name": "stdout",
     "output_type": "stream",
     "text": [
      "['a', 'about', 'above', 'after', 'again', 'against', 'ain', 'all', 'am', 'an', 'and', 'any', 'are', 'aren', \"aren't\", 'as', 'at', 'be', 'because', 'been', 'before', 'being', 'below', 'between', 'both', 'but', 'by', 'can', 'couldn', \"couldn't\", 'd', 'did', 'didn', \"didn't\", 'do', 'does', 'doesn', \"doesn't\", 'doing', 'don', \"don't\", 'down', 'during', 'each', 'few', 'for', 'from', 'further', 'had', 'hadn', \"hadn't\", 'has', 'hasn', \"hasn't\", 'have', 'haven', \"haven't\", 'having', 'he', \"he'd\", \"he'll\", 'her', 'here', 'hers', 'herself', \"he's\", 'him', 'himself', 'his', 'how', 'i', \"i'd\", 'if', \"i'll\", \"i'm\", 'in', 'into', 'is', 'isn', \"isn't\", 'it', \"it'd\", \"it'll\", \"it's\", 'its', 'itself', \"i've\", 'just', 'll', 'm', 'ma', 'me', 'mightn', \"mightn't\", 'more', 'most', 'mustn', \"mustn't\", 'my', 'myself', 'needn', \"needn't\", 'no', 'nor', 'not', 'now', 'o', 'of', 'off', 'on', 'once', 'only', 'or', 'other', 'our', 'ours', 'ourselves', 'out', 'over', 'own', 're', 's', 'same', 'shan', \"shan't\", 'she', \"she'd\", \"she'll\", \"she's\", 'should', 'shouldn', \"shouldn't\", \"should've\", 'so', 'some', 'such', 't', 'than', 'that', \"that'll\", 'the', 'their', 'theirs', 'them', 'themselves', 'then', 'there', 'these', 'they', \"they'd\", \"they'll\", \"they're\", \"they've\", 'this', 'those', 'through', 'to', 'too', 'under', 'until', 'up', 've', 'very', 'was', 'wasn', \"wasn't\", 'we', \"we'd\", \"we'll\", \"we're\", 'were', 'weren', \"weren't\", \"we've\", 'what', 'when', 'where', 'which', 'while', 'who', 'whom', 'why', 'will', 'with', 'won', \"won't\", 'wouldn', \"wouldn't\", 'y', 'you', \"you'd\", \"you'll\", 'your', \"you're\", 'yours', 'yourself', 'yourselves', \"you've\", 'name', 'age']\n"
     ]
    }
   ],
   "source": [
    "#16Add custom stopwords to the default NLTK stopword list\n",
    "import  nltk\n",
    "from nltk.corpus import stopwords\n",
    "Default_stopwords=stopwords.words('english')\n",
    "my_stopwords=[\"name\",\"age\"]\n",
    "updated_stopwords=Default_stopwords+my_stopwords\n",
    "print(updated_stopwords)"
   ]
  },
  {
   "cell_type": "code",
   "execution_count": 14,
   "metadata": {},
   "outputs": [
    {
     "name": "stdout",
     "output_type": "stream",
     "text": [
      "post: [('my', 'PRP$'), ('name', 'NN'), ('is', 'VBZ'), ('vinitha.she', 'JJ'), ('is', 'VBZ'), ('brave', 'JJ'), ('girl', 'NN')]\n"
     ]
    }
   ],
   "source": [
    "#17.Perform part-of-speech tagging on a tokenized sentence using NLTK\n",
    "import  nltk\n",
    "from nltk.tokenize import word_tokenize\n",
    "text = \"my name is vinitha.she is brave girl\"\n",
    "word=word_tokenize(text)\n",
    "pos=nltk.pos_tag(word)\n",
    "print(\"post:\",pos)\n"
   ]
  },
  {
   "cell_type": "code",
   "execution_count": 15,
   "metadata": {},
   "outputs": [
    {
     "name": "stdout",
     "output_type": "stream",
     "text": [
      "['name', 'girl']\n"
     ]
    }
   ],
   "source": [
    "#18.Extract nouns from a tokenized and tagged text\n",
    "nouns = [word for word, pos1 in pos if pos1 in ['NN', 'NNS', 'NNP', 'NNPS']]\n",
    "print(nouns)"
   ]
  },
  {
   "cell_type": "code",
   "execution_count": 16,
   "metadata": {},
   "outputs": [
    {
     "name": "stdout",
     "output_type": "stream",
     "text": [
      "['is', 'is']\n"
     ]
    }
   ],
   "source": [
    "#19,Extract verbs from a tokenized and tagged text\n",
    "verbs = [word for word, pos1 in pos if pos1 in ['VBZ']]\n",
    "print(verbs)\n"
   ]
  },
  {
   "cell_type": "code",
   "execution_count": 17,
   "metadata": {},
   "outputs": [
    {
     "name": "stdout",
     "output_type": "stream",
     "text": [
      "Adjectives: ['quick', 'lazy']\n"
     ]
    }
   ],
   "source": [
    "#20,Write a function to tag parts of speech and return only adjectives\n",
    "import nltk\n",
    "from nltk.tokenize import word_tokenize\n",
    "from nltk import pos_tag\n",
    "def adjective_only(text):\n",
    "    tokens=word_tokenize(text)\n",
    "    tagged_tokens=pos_tag(tokens)\n",
    "    adjectives=[word for word, pos in tagged_tokens if pos in['JJ','JR','JJs']]\n",
    "    return adjectives\n",
    "text=\"The quick brown fox jumps over the lazy dog.\"\n",
    "print(\"Adjectives:\", adjective_only(text))\n",
    "\n"
   ]
  },
  {
   "cell_type": "code",
   "execution_count": 18,
   "metadata": {},
   "outputs": [
    {
     "name": "stdout",
     "output_type": "stream",
     "text": [
      "(S\n",
      "  hanithra/NN\n",
      "  and/CC\n",
      "  rajviyan/JJ\n",
      "  born/VBN\n",
      "  on/IN\n",
      "  the/DT\n",
      "  same/JJ\n",
      "  year/NN)\n"
     ]
    }
   ],
   "source": [
    "#21,Perform named entity recognition (NER) on a given text using NLTK\n",
    "import nltk\n",
    "from nltk import ne_chunk, pos_tag, word_tokenize\n",
    "text=\"hanithra and rajviyan born on the same year\"\n",
    "tokens =word_tokenize(text)\n",
    "tagged_tokens=pos_tag(tokens)\n",
    "pos_tags = pos_tag(tokens)\n",
    "named_entities = ne_chunk(pos_tags)\n",
    "print(named_entities)"
   ]
  },
  {
   "cell_type": "code",
   "execution_count": 19,
   "metadata": {},
   "outputs": [
    {
     "name": "stdout",
     "output_type": "stream",
     "text": [
      "['hanithra', 'year']\n"
     ]
    }
   ],
   "source": [
    "#22,Extract proper nouns (named entities) from a tokenized text.\n",
    "import nltk\n",
    "from nltk import ne_chunk, pos_tag, word_tokenize\n",
    "text=\"hanithra and rajviyan born on the same year\"\n",
    "tokens =word_tokenize(text)\n",
    "tagged_tokens=pos_tag(tokens)\n",
    "pos_tags = pos_tag(tokens)\n",
    "named_entities = ne_chunk(pos_tags)\n",
    "noun1=[word for word ,pos in tagged_tokens if pos in ['NN', 'NNS', 'NNP', 'NNPS']]\n",
    "print(noun1)"
   ]
  },
  {
   "cell_type": "code",
   "execution_count": 20,
   "metadata": {},
   "outputs": [
    {
     "name": "stdout",
     "output_type": "stream",
     "text": [
      "Organizations: ['Microsoft', 'OpenAI']\n"
     ]
    }
   ],
   "source": [
    "#23,,Find all organizations mentioned in a given text using NLTK.\n",
    "import nltk\n",
    "from nltk import word_tokenize, pos_tag, ne_chunk\n",
    "from nltk.tree import Tree\n",
    "def extract_org(text):\n",
    "    tokens =word_tokenize(text)\n",
    "    tagged_tokens=pos_tag(tokens)\n",
    "    pos_tags = pos_tag(tokens)\n",
    "    named_entities = ne_chunk(pos_tags)\n",
    "    organization=[]\n",
    "    for chunk in named_entities:\n",
    "        if isinstance(chunk,Tree)and chunk.label()==\"ORGANIZATION\":\n",
    "             org = \" \".join(c[0] for c in chunk)\n",
    "             organization.append(org)\n",
    "    return organization\n",
    "text = \"Google and Microsoft are leading companies in the tech industry. OpenAI is also innovating rapidly.\"\n",
    "print(\"Organizations:\", extract_org(text))\n",
    "\n"
   ]
  },
  {
   "cell_type": "code",
   "execution_count": 28,
   "metadata": {},
   "outputs": [
    {
     "name": "stdout",
     "output_type": "stream",
     "text": [
      "Noun Phrases: ['The big brown fox', 'the lazy dog', 'the green tree']\n"
     ]
    }
   ],
   "source": [
    "#24,Perform chunking to extract noun phrases from a sentence.\n",
    "from nltk import pos_tag, RegexpParser\n",
    "# nltk.download('averaged_perceptron_tagger')\n",
    "def extract_noun_phrases(text):\n",
    "    words = word_tokenize(text)  # Tokenize the sentence\n",
    "    pos_tags = pos_tag(words)  # Get POS tags\n",
    "\n",
    "    # Define a chunking grammar (NP: Noun Phrase = DT (optional) + Adj (optional) + NN)\n",
    "    grammar = r\"\"\"\n",
    "        NP: {<DT>?<JJ>*<NN.*>+}  # Determiner (optional), Adjective (optional), Nouns\n",
    "    \"\"\"\n",
    "\n",
    "    chunk_parser = RegexpParser(grammar)  # Create the chunk parser\n",
    "    chunk_tree = chunk_parser.parse(pos_tags)  # Apply chunking\n",
    "\n",
    "    # Extract noun phrases\n",
    "    noun_phrases = []\n",
    "    for subtree in chunk_tree.subtrees(filter=lambda t: t.label() == 'NP'):\n",
    "        noun_phrases.append(\" \".join(word for word, tag in subtree.leaves()))\n",
    "\n",
    "    return noun_phrases\n",
    "\n",
    "# Example sentence\n",
    "sentence = \"The big brown fox jumped over the lazy dog near the green tree.\"\n",
    "\n",
    "# Extract noun phrases\n",
    "np_chunks = extract_noun_phrases(sentence)\n",
    "\n",
    "# Output\n",
    "print(\"Noun Phrases:\", np_chunks)\n"
   ]
  },
  {
   "cell_type": "code",
   "execution_count": 30,
   "metadata": {},
   "outputs": [],
   "source": [
    "# 25. Visualize Named Entity Recognition (NER) using Tree Visualization in NLTK\n",
    "import nltk\n",
    "from nltk import word_tokenize, pos_tag, ne_chunk\n",
    "\n",
    "# Download necessary resources\n",
    "# nltk.download('maxent_ne_chunker')\n",
    "# nltk.download('words')\n",
    "\n",
    "# Input text\n",
    "text = \"Barack Obama was the 44th President of the United States and lived in Washington.\"\n",
    "\n",
    "# Tokenization and POS tagging\n",
    "words = word_tokenize(text)\n",
    "pos_tags = pos_tag(words)\n",
    "\n",
    "# Named Entity Recognition (NER)\n",
    "ner_tree = ne_chunk(pos_tags)\n",
    "\n",
    "# Display tree visualization\n",
    "ner_tree.draw()\n"
   ]
  },
  {
   "cell_type": "code",
   "execution_count": 31,
   "metadata": {},
   "outputs": [
    {
     "name": "stdout",
     "output_type": "stream",
     "text": [
      "['quick', 'brown', 'fox', 'jump', 'lazi', 'dog', '.']\n"
     ]
    }
   ],
   "source": [
    "#26. Basic Text Preprocessing Pipeline (Tokenization, Stopword Removal, Stemming)\n",
    "import nltk\n",
    "from nltk.tokenize import word_tokenize\n",
    "from nltk.corpus import stopwords\n",
    "from nltk.stem import PorterStemmer\n",
    "\n",
    "\n",
    "def preprocess_text(text):\n",
    "    stemmer = PorterStemmer()\n",
    "    stop_words = set(stopwords.words('english'))\n",
    "    \n",
    "    # Tokenization\n",
    "    words = word_tokenize(text)\n",
    "    \n",
    "    # Stopword Removal & Stemming\n",
    "    processed_words = [stemmer.stem(word) for word in words if word.lower() not in stop_words]\n",
    "\n",
    "    return processed_words\n",
    "\n",
    "# Example text\n",
    "text = \"The quick brown foxes are jumping over the lazy dogs.\"\n",
    "print(preprocess_text(text))\n"
   ]
  },
  {
   "cell_type": "code",
   "execution_count": 32,
   "metadata": {},
   "outputs": [
    {
     "name": "stdout",
     "output_type": "stream",
     "text": [
      "['running', 'fox', 'quickly', 'jumping', 'lazy', 'dog', '.']\n"
     ]
    }
   ],
   "source": [
    "#27. Function for Tokenization, Lemmatization & Stopword Removal\n",
    "import nltk\n",
    "from nltk.tokenize import word_tokenize\n",
    "from nltk.corpus import stopwords\n",
    "from nltk.stem import WordNetLemmatizer\n",
    "\n",
    "\n",
    "# Function for text preprocessing\n",
    "def preprocess_text_lemma(text):\n",
    "    lemmatizer = WordNetLemmatizer()\n",
    "    stop_words = set(stopwords.words('english'))\n",
    "    \n",
    "    # Tokenization\n",
    "    words = word_tokenize(text)\n",
    "    \n",
    "    # Stopword Removal & Lemmatization\n",
    "    processed_words = [lemmatizer.lemmatize(word.lower()) for word in words if word.lower() not in stop_words]\n",
    "\n",
    "    return processed_words\n",
    "\n",
    "# Example usage\n",
    "text = \"The running foxes are quickly jumping over the lazy dogs.\"\n",
    "print(preprocess_text_lemma(text))\n"
   ]
  },
  {
   "cell_type": "code",
   "execution_count": 36,
   "metadata": {},
   "outputs": [
    {
     "name": "stdout",
     "output_type": "stream",
     "text": [
      "Collecting matplotlib\n",
      "  Downloading matplotlib-3.9.4-cp39-cp39-win_amd64.whl.metadata (11 kB)\n",
      "Collecting contourpy>=1.0.1 (from matplotlib)\n",
      "  Downloading contourpy-1.3.0-cp39-cp39-win_amd64.whl.metadata (5.4 kB)\n",
      "Collecting cycler>=0.10 (from matplotlib)\n",
      "  Downloading cycler-0.12.1-py3-none-any.whl.metadata (3.8 kB)\n",
      "Collecting fonttools>=4.22.0 (from matplotlib)\n",
      "  Downloading fonttools-4.56.0-cp39-cp39-win_amd64.whl.metadata (103 kB)\n",
      "Collecting kiwisolver>=1.3.1 (from matplotlib)\n",
      "  Downloading kiwisolver-1.4.7-cp39-cp39-win_amd64.whl.metadata (6.4 kB)\n",
      "Requirement already satisfied: numpy>=1.23 in c:\\users\\vinit\\.conda\\envs\\nlp_env\\lib\\site-packages (from matplotlib) (2.0.2)\n",
      "Requirement already satisfied: packaging>=20.0 in c:\\users\\vinit\\.conda\\envs\\nlp_env\\lib\\site-packages (from matplotlib) (24.2)\n",
      "Requirement already satisfied: pillow>=8 in c:\\users\\vinit\\.conda\\envs\\nlp_env\\lib\\site-packages (from matplotlib) (11.1.0)\n",
      "Collecting pyparsing>=2.3.1 (from matplotlib)\n",
      "  Downloading pyparsing-3.2.2-py3-none-any.whl.metadata (5.0 kB)\n",
      "Requirement already satisfied: python-dateutil>=2.7 in c:\\users\\vinit\\.conda\\envs\\nlp_env\\lib\\site-packages (from matplotlib) (2.9.0.post0)\n",
      "Collecting importlib-resources>=3.2.0 (from matplotlib)\n",
      "  Downloading importlib_resources-6.5.2-py3-none-any.whl.metadata (3.9 kB)\n",
      "Requirement already satisfied: zipp>=3.1.0 in c:\\users\\vinit\\.conda\\envs\\nlp_env\\lib\\site-packages (from importlib-resources>=3.2.0->matplotlib) (3.21.0)\n",
      "Requirement already satisfied: six>=1.5 in c:\\users\\vinit\\.conda\\envs\\nlp_env\\lib\\site-packages (from python-dateutil>=2.7->matplotlib) (1.16.0)\n",
      "Downloading matplotlib-3.9.4-cp39-cp39-win_amd64.whl (7.8 MB)\n",
      "   ---------------------------------------- 0.0/7.8 MB ? eta -:--:--\n",
      "   -- ------------------------------------- 0.5/7.8 MB 2.1 MB/s eta 0:00:04\n",
      "   ------ --------------------------------- 1.3/7.8 MB 3.0 MB/s eta 0:00:03\n",
      "   ------------ --------------------------- 2.4/7.8 MB 3.7 MB/s eta 0:00:02\n",
      "   ---------------- ----------------------- 3.1/7.8 MB 3.8 MB/s eta 0:00:02\n",
      "   --------------------- ------------------ 4.2/7.8 MB 4.1 MB/s eta 0:00:01\n",
      "   ---------------------------- ----------- 5.5/7.8 MB 4.4 MB/s eta 0:00:01\n",
      "   ---------------------------------- ----- 6.8/7.8 MB 4.6 MB/s eta 0:00:01\n",
      "   ---------------------------------------- 7.8/7.8 MB 4.7 MB/s eta 0:00:00\n",
      "Downloading contourpy-1.3.0-cp39-cp39-win_amd64.whl (211 kB)\n",
      "Downloading cycler-0.12.1-py3-none-any.whl (8.3 kB)\n",
      "Downloading fonttools-4.56.0-cp39-cp39-win_amd64.whl (2.2 MB)\n",
      "   ---------------------------------------- 0.0/2.2 MB ? eta -:--:--\n",
      "   ------------------- -------------------- 1.0/2.2 MB 5.6 MB/s eta 0:00:01\n",
      "   ---------------------------------------- 2.2/2.2 MB 5.2 MB/s eta 0:00:00\n",
      "Downloading importlib_resources-6.5.2-py3-none-any.whl (37 kB)\n",
      "Downloading kiwisolver-1.4.7-cp39-cp39-win_amd64.whl (55 kB)\n",
      "Downloading pyparsing-3.2.2-py3-none-any.whl (111 kB)\n",
      "Installing collected packages: pyparsing, kiwisolver, importlib-resources, fonttools, cycler, contourpy, matplotlib\n",
      "Successfully installed contourpy-1.3.0 cycler-0.12.1 fonttools-4.56.0 importlib-resources-6.5.2 kiwisolver-1.4.7 matplotlib-3.9.4 pyparsing-3.2.2\n",
      "Note: you may need to restart the kernel to use updated packages.\n"
     ]
    }
   ],
   "source": [
    "%pip install matplotlib\n"
   ]
  },
  {
   "cell_type": "code",
   "execution_count": 37,
   "metadata": {},
   "outputs": [
    {
     "name": "stdout",
     "output_type": "stream",
     "text": [
      "NLTK Tokenization: ['Hello', '!', 'This', 'is', 'an', 'example', 'sentence', '.', 'Let', \"'s\", 'compare', 'tokenization', 'methods', '.']\n",
      "Python split: ['Hello!', 'This', 'is', 'an', 'example', 'sentence.', \"Let's\", 'compare', 'tokenization', 'methods.']\n"
     ]
    }
   ],
   "source": [
    "# 28. Compare Tokenization Results of NLTK’s word_tokenize and Python’s split\n",
    "import nltk\n",
    "from nltk.tokenize import word_tokenize\n",
    "\n",
    "\n",
    "\n",
    "# Example sentence\n",
    "text = \"Hello! This is an example sentence. Let's compare tokenization methods.\"\n",
    "\n",
    "# Tokenization using NLTK\n",
    "nltk_tokens = word_tokenize(text)\n",
    "\n",
    "# Tokenization using Python's split\n",
    "split_tokens = text.split()\n",
    "\n",
    "# Display Results\n",
    "print(\"NLTK Tokenization:\", nltk_tokens)\n",
    "print(\"Python split:\", split_tokens)\n"
   ]
  },
  {
   "cell_type": "code",
   "execution_count": 38,
   "metadata": {},
   "outputs": [
    {
     "name": "stderr",
     "output_type": "stream",
     "text": [
      "[nltk_data] Downloading package punkt to\n",
      "[nltk_data]     C:\\Users\\Vinit\\AppData\\Roaming\\nltk_data...\n",
      "[nltk_data]   Package punkt is already up-to-date!\n"
     ]
    },
    {
     "name": "stdout",
     "output_type": "stream",
     "text": [
      "[('data', 2), ('science', 2), (',', 2), ('is', 1), ('amazing', 1)]\n"
     ]
    },
    {
     "data": {
      "text/plain": [
       "<Axes: title={'center': 'Word Frequency Distribution'}, xlabel='Samples', ylabel='Counts'>"
      ]
     },
     "execution_count": 38,
     "metadata": {},
     "output_type": "execute_result"
    },
    {
     "data": {
      "image/png": "[encoded data removed]",
      "text/plain": [
       "<Figure size 640x480 with 1 Axes>"
      ]
     },
     "metadata": {},
     "output_type": "display_data"
    }
   ],
   "source": [
    "import nltk\n",
    "from nltk.tokenize import word_tokenize\n",
    "from nltk.probability import FreqDist\n",
    "\n",
    "nltk.download('punkt')\n",
    "\n",
    "# Sample text\n",
    "text = \"Data Science is amazing! Data Science involves statistics, machine learning, and AI.\"\n",
    "\n",
    "# Tokenize words\n",
    "words = word_tokenize(text.lower())\n",
    "\n",
    "# Compute word frequency\n",
    "freq_dist = FreqDist(words)\n",
    "\n",
    "# Display top 5 words\n",
    "print(freq_dist.most_common(5))\n",
    "\n",
    "# Plot the word frequency\n",
    "import matplotlib.pyplot as plt\n",
    "freq_dist.plot(10, title=\"Word Frequency Distribution\")\n"
   ]
  },
  {
   "cell_type": "code",
   "execution_count": 42,
   "metadata": {},
   "outputs": [
    {
     "name": "stderr",
     "output_type": "stream",
     "text": [
      "[nltk_data] Downloading package punkt to\n",
      "[nltk_data]     C:\\Users\\Vinit\\AppData\\Roaming\\nltk_data...\n",
      "[nltk_data]   Package punkt is already up-to-date!\n",
      "[nltk_data] Downloading package stopwords to\n",
      "[nltk_data]     C:\\Users\\Vinit\\AppData\\Roaming\\nltk_data...\n",
      "[nltk_data]   Package stopwords is already up-to-date!\n"
     ]
    },
    {
     "data": {
      "image/png": "[encoded data removed]",
      "text/plain": [
       "<Figure size 800x600 with 1 Axes>"
      ]
     },
     "metadata": {},
     "output_type": "display_data"
    }
   ],
   "source": [
    "#30. Create a Word Cloud from Preprocessed Text\n",
    "import nltk\n",
    "from nltk.tokenize import word_tokenize\n",
    "from nltk.corpus import stopwords\n",
    "import matplotlib.pyplot as plt\n",
    "from wordcloud import WordCloud\n",
    "\n",
    "nltk.download('punkt')\n",
    "nltk.download('stopwords')\n",
    "\n",
    "# Example text\n",
    "# text = \"Natural Language Processing is a subfield of AI. It involves text analysis, linguistics, and machine learning.\"\n",
    "text=\"hanithra is good and brave girl\"\n",
    "\n",
    "# Preprocessing: Tokenization & Stopword Removal\n",
    "stop_words = set(stopwords.words('english'))\n",
    "words = [word.lower() for word in word_tokenize(text) if word.lower() not in stop_words and word.isalnum()]\n",
    "\n",
    "# Generate word cloud\n",
    "wordcloud = WordCloud(width=600, height=400, background_color='white').generate(\" \".join(words))\n",
    "\n",
    "# Display word cloud\n",
    "plt.figure(figsize=(8, 6))\n",
    "plt.imshow(wordcloud, interpolation=\"bilinear\")\n",
    "plt.axis(\"off\")\n",
    "plt.show()\n"
   ]
  },
  {
   "cell_type": "code",
   "execution_count": 40,
   "metadata": {},
   "outputs": [
    {
     "name": "stdout",
     "output_type": "stream",
     "text": [
      "Collecting wordcloud\n",
      "  Downloading wordcloud-1.9.4-cp39-cp39-win_amd64.whl.metadata (3.5 kB)\n",
      "Requirement already satisfied: numpy>=1.6.1 in c:\\users\\vinit\\.conda\\envs\\nlp_env\\lib\\site-packages (from wordcloud) (2.0.2)\n",
      "Requirement already satisfied: pillow in c:\\users\\vinit\\.conda\\envs\\nlp_env\\lib\\site-packages (from wordcloud) (11.1.0)\n",
      "Requirement already satisfied: matplotlib in c:\\users\\vinit\\.conda\\envs\\nlp_env\\lib\\site-packages (from wordcloud) (3.9.4)\n",
      "Requirement already satisfied: contourpy>=1.0.1 in c:\\users\\vinit\\.conda\\envs\\nlp_env\\lib\\site-packages (from matplotlib->wordcloud) (1.3.0)\n",
      "Requirement already satisfied: cycler>=0.10 in c:\\users\\vinit\\.conda\\envs\\nlp_env\\lib\\site-packages (from matplotlib->wordcloud) (0.12.1)\n",
      "Requirement already satisfied: fonttools>=4.22.0 in c:\\users\\vinit\\.conda\\envs\\nlp_env\\lib\\site-packages (from matplotlib->wordcloud) (4.56.0)\n",
      "Requirement already satisfied: kiwisolver>=1.3.1 in c:\\users\\vinit\\.conda\\envs\\nlp_env\\lib\\site-packages (from matplotlib->wordcloud) (1.4.7)\n",
      "Requirement already satisfied: packaging>=20.0 in c:\\users\\vinit\\.conda\\envs\\nlp_env\\lib\\site-packages (from matplotlib->wordcloud) (24.2)\n",
      "Requirement already satisfied: pyparsing>=2.3.1 in c:\\users\\vinit\\.conda\\envs\\nlp_env\\lib\\site-packages (from matplotlib->wordcloud) (3.2.2)\n",
      "Requirement already satisfied: python-dateutil>=2.7 in c:\\users\\vinit\\.conda\\envs\\nlp_env\\lib\\site-packages (from matplotlib->wordcloud) (2.9.0.post0)\n",
      "Requirement already satisfied: importlib-resources>=3.2.0 in c:\\users\\vinit\\.conda\\envs\\nlp_env\\lib\\site-packages (from matplotlib->wordcloud) (6.5.2)\n",
      "Requirement already satisfied: zipp>=3.1.0 in c:\\users\\vinit\\.conda\\envs\\nlp_env\\lib\\site-packages (from importlib-resources>=3.2.0->matplotlib->wordcloud) (3.21.0)\n",
      "Requirement already satisfied: six>=1.5 in c:\\users\\vinit\\.conda\\envs\\nlp_env\\lib\\site-packages (from python-dateutil>=2.7->matplotlib->wordcloud) (1.16.0)\n",
      "Downloading wordcloud-1.9.4-cp39-cp39-win_amd64.whl (300 kB)\n",
      "Installing collected packages: wordcloud\n",
      "Successfully installed wordcloud-1.9.4\n"
     ]
    }
   ],
   "source": [
    "!pip install wordcloud\n"
   ]
  }
 ],
 "metadata": {
  "kernelspec": {
   "display_name": "nlp_env",
   "language": "python",
   "name": "python3"
  },
  "language_info": {
   "codemirror_mode": {
    "name": "ipython",
    "version": 3
   },
   "file_extension": ".py",
   "mimetype": "text/x-python",
   "name": "python",
   "nbconvert_exporter": "python",
   "pygments_lexer": "ipython3",
   "version": "3.9.20"
  }
 },
 "nbformat": 4,
 "nbformat_minor": 2
}
