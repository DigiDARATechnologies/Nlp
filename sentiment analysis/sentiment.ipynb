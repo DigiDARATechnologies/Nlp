{
 "cells": [
  {
   "cell_type": "code",
   "execution_count": 2,
   "metadata": {},
   "outputs": [
    {
     "name": "stderr",
     "output_type": "stream",
     "text": [
      "[nltk_data] Downloading package vader_lexicon to\n",
      "[nltk_data]     C:\\Users\\Vinit\\AppData\\Roaming\\nltk_data...\n",
      "[nltk_data]   Package vader_lexicon is already up-to-date!\n"
     ]
    },
    {
     "name": "stdout",
     "output_type": "stream",
     "text": [
      "                                         Review Text Sentiment\n",
      "0  Absolutely wonderful - silky and sexy and comf...  Positive\n",
      "1  Love this dress!  it's sooo pretty.  i happene...  Positive\n",
      "2  I had such high hopes for this dress and reall...  Positive\n",
      "3  I love, love, love this jumpsuit. it's fun, fl...  Positive\n",
      "4  This shirt is very flattering to all due to th...  Positive\n",
      "Sentiment analysis completed. Results saved.\n"
     ]
    }
   ],
   "source": [
    "import pandas as pd\n",
    "import nltk\n",
    "from nltk.sentiment import SentimentIntensityAnalyzer\n",
    "\n",
    "# Ensure NLTK resources are downloaded\n",
    "nltk.download('vader_lexicon')\n",
    "\n",
    "# Load dataset\n",
    "df = pd.read_csv(\"Womens Clothing E-Commerce Reviews.csv\")\n",
    "\n",
    "# Drop rows with missing reviews\n",
    "df = df.dropna(subset=['Review Text'])\n",
    "\n",
    "# Initialize sentiment analyzer\n",
    "sia = SentimentIntensityAnalyzer()\n",
    "\n",
    "def get_sentiment(text):\n",
    "    \"\"\"Classify sentiment based on VADER scores.\"\"\"\n",
    "    score = sia.polarity_scores(text)['compound']\n",
    "    if score >= 0.05:\n",
    "        return \"Positive\"\n",
    "    elif score <= -0.05:\n",
    "        return \"Negative\"\n",
    "    else:\n",
    "        return \"Neutral\"\n",
    "\n",
    "# Apply sentiment analysis\n",
    "df['Sentiment'] = df['Review Text'].apply(get_sentiment)\n",
    "\n",
    "# Display sample results\n",
    "print(df[['Review Text', 'Sentiment']].head())\n",
    "\n",
    "# Save results\n",
    "df.to_csv(\"sentiment_analysis_results.csv\", index=False)\n",
    "print(\"Sentiment analysis completed. Results saved.\")"
   ]
  }
 ],
 "metadata": {
  "kernelspec": {
   "display_name": "nlp_env",
   "language": "python",
   "name": "python3"
  },
  "language_info": {
   "codemirror_mode": {
    "name": "ipython",
    "version": 3
   },
   "file_extension": ".py",
   "mimetype": "text/x-python",
   "name": "python",
   "nbconvert_exporter": "python",
   "pygments_lexer": "ipython3",
   "version": "3.9.20"
  }
 },
 "nbformat": 4,
 "nbformat_minor": 2
}
